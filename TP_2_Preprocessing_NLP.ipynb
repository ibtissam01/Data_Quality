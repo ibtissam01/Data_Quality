{
  "nbformat": 4,
  "nbformat_minor": 0,
  "metadata": {
    "colab": {
      "provenance": [],
      "authorship_tag": "ABX9TyMfUpgMt60jec1sHnJLYz7d",
      "include_colab_link": true
    },
    "kernelspec": {
      "name": "python3",
      "display_name": "Python 3"
    },
    "language_info": {
      "name": "python"
    }
  },
  "cells": [
    {
      "cell_type": "markdown",
      "metadata": {
        "id": "view-in-github",
        "colab_type": "text"
      },
      "source": [
        "<a href=\"https://colab.research.google.com/github/ibtissam01/Data_Quality/blob/main/TP_2_Preprocessing_NLP.ipynb\" target=\"_parent\"><img src=\"https://colab.research.google.com/assets/colab-badge.svg\" alt=\"Open In Colab\"/></a>"
      ]
    },
    {
      "cell_type": "markdown",
      "source": [
        "Après la phase de collecte des données textuelles, l'exploration et le prétraitement du texte sont\n",
        "des étapes cruciales dans le processus d'analyse en traitement automatique du langage naturel\n",
        "(NLP). L'exploration révèle la nature profonde du corpus linguistique, identifiant les aspects clés\n",
        "et les défis potentiels. Elle prépare ainsi le terrain pour le nettoyage des données, les\n",
        "transformations nécessaires, et la normalisation du texte, rendant ainsi les données prêtes à être\n",
        "utilisées par des modèles d'apprentissage automatique (objectif principale du cours textminig).\n",
        "Ce TP couvre les différentes étapes de preprocessing du texte : la suppression des mots vides, la\n",
        "et la ponctuation, la mise en minuscules, la lemmatisation, le stemming, et l'utilisation de\n",
        "quelques techniques basiques de word embeddings (vectorisation).\n"
      ],
      "metadata": {
        "id": "gTW8Z6y9OT-k"
      }
    },
    {
      "cell_type": "markdown",
      "source": [
        "Tout au long de ce cette activité, nous allons travailler sur le contenu Texte et WORDS et mots\n",
        "définis comme ce qui suit :"
      ],
      "metadata": {
        "id": "O-pyu7xxOc04"
      }
    },
    {
      "cell_type": "code",
      "execution_count": 2,
      "metadata": {
        "id": "P85DOCBbNYk1"
      },
      "outputs": [],
      "source": [
        "Text='''Data virtualization is a concept and technology that allows organizations to\n",
        "access and manage data from various sources in a unified and simplified manner,\n",
        "without the need to physically move or replicate the data. It provides a layer of\n",
        "abstraction that presents a virtual view of data from different sources, making it appear\n",
        "as if it resides in a single, centralized location.'''\n"
      ]
    },
    {
      "cell_type": "code",
      "source": [
        "WORDS= [\"RUNNING\", \"Played\", \"AM\", \"BEAUtiful\", \"Dogs\"]"
      ],
      "metadata": {
        "id": "_wIuPL-mORKa"
      },
      "execution_count": 3,
      "outputs": []
    },
    {
      "cell_type": "code",
      "source": [
        "Mots= [\"manges\", \"jouent\", \"suis\", \"suivons\", \"corpora\",\"heureusement\", \"grandes\",\n",
        "\"better\"]"
      ],
      "metadata": {
        "id": "3xiGBP6lOutk"
      },
      "execution_count": 4,
      "outputs": []
    },
    {
      "cell_type": "markdown",
      "source": [
        "1. Avant de démarrer :\n",
        "1.1 Assurer vous que la bibliothèque NLTK et bien installée et importée"
      ],
      "metadata": {
        "id": "Zp_-YtBLOz5q"
      }
    },
    {
      "cell_type": "code",
      "source": [
        "import nltk"
      ],
      "metadata": {
        "id": "WVqGRJ23O0Xq"
      },
      "execution_count": 5,
      "outputs": []
    },
    {
      "cell_type": "markdown",
      "source": [
        "1.2 Télécharger en local les données nécessaires pour le traitement automatique du langage."
      ],
      "metadata": {
        "id": "QaMqqcYLO8A0"
      }
    },
    {
      "cell_type": "code",
      "source": [
        "nltk.download(\"wordnet\") #utile pour lemmatisation\n",
        "nltk.download('stopwords') #utile pour supprimer les stopwords\n",
        "nltk.download('punkt') #utile pour tokenisation\n",
        "nltk.download('all')#telecharge en local le tout.\n"
      ],
      "metadata": {
        "colab": {
          "base_uri": "https://localhost:8080/"
        },
        "id": "xhwHtsc9O3Ay",
        "outputId": "eb8c6f59-3cba-46e2-8079-824ef8580979"
      },
      "execution_count": 6,
      "outputs": [
        {
          "output_type": "stream",
          "name": "stderr",
          "text": [
            "[nltk_data] Downloading package wordnet to /root/nltk_data...\n",
            "[nltk_data] Downloading package stopwords to /root/nltk_data...\n",
            "[nltk_data]   Unzipping corpora/stopwords.zip.\n",
            "[nltk_data] Downloading package punkt to /root/nltk_data...\n",
            "[nltk_data]   Unzipping tokenizers/punkt.zip.\n",
            "[nltk_data] Downloading collection 'all'\n",
            "[nltk_data]    | \n",
            "[nltk_data]    | Downloading package abc to /root/nltk_data...\n",
            "[nltk_data]    |   Unzipping corpora/abc.zip.\n",
            "[nltk_data]    | Downloading package alpino to /root/nltk_data...\n",
            "[nltk_data]    |   Unzipping corpora/alpino.zip.\n",
            "[nltk_data]    | Downloading package averaged_perceptron_tagger to\n",
            "[nltk_data]    |     /root/nltk_data...\n",
            "[nltk_data]    |   Unzipping taggers/averaged_perceptron_tagger.zip.\n",
            "[nltk_data]    | Downloading package averaged_perceptron_tagger_ru to\n",
            "[nltk_data]    |     /root/nltk_data...\n",
            "[nltk_data]    |   Unzipping\n",
            "[nltk_data]    |       taggers/averaged_perceptron_tagger_ru.zip.\n",
            "[nltk_data]    | Downloading package basque_grammars to\n",
            "[nltk_data]    |     /root/nltk_data...\n",
            "[nltk_data]    |   Unzipping grammars/basque_grammars.zip.\n",
            "[nltk_data]    | Downloading package bcp47 to /root/nltk_data...\n",
            "[nltk_data]    | Downloading package biocreative_ppi to\n",
            "[nltk_data]    |     /root/nltk_data...\n",
            "[nltk_data]    |   Unzipping corpora/biocreative_ppi.zip.\n",
            "[nltk_data]    | Downloading package bllip_wsj_no_aux to\n",
            "[nltk_data]    |     /root/nltk_data...\n",
            "[nltk_data]    |   Unzipping models/bllip_wsj_no_aux.zip.\n",
            "[nltk_data]    | Downloading package book_grammars to\n",
            "[nltk_data]    |     /root/nltk_data...\n",
            "[nltk_data]    |   Unzipping grammars/book_grammars.zip.\n",
            "[nltk_data]    | Downloading package brown to /root/nltk_data...\n",
            "[nltk_data]    |   Unzipping corpora/brown.zip.\n",
            "[nltk_data]    | Downloading package brown_tei to /root/nltk_data...\n",
            "[nltk_data]    |   Unzipping corpora/brown_tei.zip.\n",
            "[nltk_data]    | Downloading package cess_cat to /root/nltk_data...\n",
            "[nltk_data]    |   Unzipping corpora/cess_cat.zip.\n",
            "[nltk_data]    | Downloading package cess_esp to /root/nltk_data...\n",
            "[nltk_data]    |   Unzipping corpora/cess_esp.zip.\n",
            "[nltk_data]    | Downloading package chat80 to /root/nltk_data...\n",
            "[nltk_data]    |   Unzipping corpora/chat80.zip.\n",
            "[nltk_data]    | Downloading package city_database to\n",
            "[nltk_data]    |     /root/nltk_data...\n",
            "[nltk_data]    |   Unzipping corpora/city_database.zip.\n",
            "[nltk_data]    | Downloading package cmudict to /root/nltk_data...\n",
            "[nltk_data]    |   Unzipping corpora/cmudict.zip.\n",
            "[nltk_data]    | Downloading package comparative_sentences to\n",
            "[nltk_data]    |     /root/nltk_data...\n",
            "[nltk_data]    |   Unzipping corpora/comparative_sentences.zip.\n",
            "[nltk_data]    | Downloading package comtrans to /root/nltk_data...\n",
            "[nltk_data]    | Downloading package conll2000 to /root/nltk_data...\n",
            "[nltk_data]    |   Unzipping corpora/conll2000.zip.\n",
            "[nltk_data]    | Downloading package conll2002 to /root/nltk_data...\n",
            "[nltk_data]    |   Unzipping corpora/conll2002.zip.\n",
            "[nltk_data]    | Downloading package conll2007 to /root/nltk_data...\n",
            "[nltk_data]    | Downloading package crubadan to /root/nltk_data...\n",
            "[nltk_data]    |   Unzipping corpora/crubadan.zip.\n",
            "[nltk_data]    | Downloading package dependency_treebank to\n",
            "[nltk_data]    |     /root/nltk_data...\n",
            "[nltk_data]    |   Unzipping corpora/dependency_treebank.zip.\n",
            "[nltk_data]    | Downloading package dolch to /root/nltk_data...\n",
            "[nltk_data]    |   Unzipping corpora/dolch.zip.\n",
            "[nltk_data]    | Downloading package europarl_raw to\n",
            "[nltk_data]    |     /root/nltk_data...\n",
            "[nltk_data]    |   Unzipping corpora/europarl_raw.zip.\n",
            "[nltk_data]    | Downloading package extended_omw to\n",
            "[nltk_data]    |     /root/nltk_data...\n",
            "[nltk_data]    | Downloading package floresta to /root/nltk_data...\n",
            "[nltk_data]    |   Unzipping corpora/floresta.zip.\n",
            "[nltk_data]    | Downloading package framenet_v15 to\n",
            "[nltk_data]    |     /root/nltk_data...\n",
            "[nltk_data]    |   Unzipping corpora/framenet_v15.zip.\n",
            "[nltk_data]    | Downloading package framenet_v17 to\n",
            "[nltk_data]    |     /root/nltk_data...\n",
            "[nltk_data]    |   Unzipping corpora/framenet_v17.zip.\n",
            "[nltk_data]    | Downloading package gazetteers to /root/nltk_data...\n",
            "[nltk_data]    |   Unzipping corpora/gazetteers.zip.\n",
            "[nltk_data]    | Downloading package genesis to /root/nltk_data...\n",
            "[nltk_data]    |   Unzipping corpora/genesis.zip.\n",
            "[nltk_data]    | Downloading package gutenberg to /root/nltk_data...\n",
            "[nltk_data]    |   Unzipping corpora/gutenberg.zip.\n",
            "[nltk_data]    | Downloading package ieer to /root/nltk_data...\n",
            "[nltk_data]    |   Unzipping corpora/ieer.zip.\n",
            "[nltk_data]    | Downloading package inaugural to /root/nltk_data...\n",
            "[nltk_data]    |   Unzipping corpora/inaugural.zip.\n",
            "[nltk_data]    | Downloading package indian to /root/nltk_data...\n",
            "[nltk_data]    |   Unzipping corpora/indian.zip.\n",
            "[nltk_data]    | Downloading package jeita to /root/nltk_data...\n",
            "[nltk_data]    | Downloading package kimmo to /root/nltk_data...\n",
            "[nltk_data]    |   Unzipping corpora/kimmo.zip.\n",
            "[nltk_data]    | Downloading package knbc to /root/nltk_data...\n",
            "[nltk_data]    | Downloading package large_grammars to\n",
            "[nltk_data]    |     /root/nltk_data...\n",
            "[nltk_data]    |   Unzipping grammars/large_grammars.zip.\n",
            "[nltk_data]    | Downloading package lin_thesaurus to\n",
            "[nltk_data]    |     /root/nltk_data...\n",
            "[nltk_data]    |   Unzipping corpora/lin_thesaurus.zip.\n",
            "[nltk_data]    | Downloading package mac_morpho to /root/nltk_data...\n",
            "[nltk_data]    |   Unzipping corpora/mac_morpho.zip.\n",
            "[nltk_data]    | Downloading package machado to /root/nltk_data...\n",
            "[nltk_data]    | Downloading package masc_tagged to /root/nltk_data...\n",
            "[nltk_data]    | Downloading package maxent_ne_chunker to\n",
            "[nltk_data]    |     /root/nltk_data...\n",
            "[nltk_data]    |   Unzipping chunkers/maxent_ne_chunker.zip.\n",
            "[nltk_data]    | Downloading package maxent_treebank_pos_tagger to\n",
            "[nltk_data]    |     /root/nltk_data...\n",
            "[nltk_data]    |   Unzipping taggers/maxent_treebank_pos_tagger.zip.\n",
            "[nltk_data]    | Downloading package moses_sample to\n",
            "[nltk_data]    |     /root/nltk_data...\n",
            "[nltk_data]    |   Unzipping models/moses_sample.zip.\n",
            "[nltk_data]    | Downloading package movie_reviews to\n",
            "[nltk_data]    |     /root/nltk_data...\n",
            "[nltk_data]    |   Unzipping corpora/movie_reviews.zip.\n",
            "[nltk_data]    | Downloading package mte_teip5 to /root/nltk_data...\n",
            "[nltk_data]    |   Unzipping corpora/mte_teip5.zip.\n",
            "[nltk_data]    | Downloading package mwa_ppdb to /root/nltk_data...\n",
            "[nltk_data]    |   Unzipping misc/mwa_ppdb.zip.\n",
            "[nltk_data]    | Downloading package names to /root/nltk_data...\n",
            "[nltk_data]    |   Unzipping corpora/names.zip.\n",
            "[nltk_data]    | Downloading package nombank.1.0 to /root/nltk_data...\n",
            "[nltk_data]    | Downloading package nonbreaking_prefixes to\n",
            "[nltk_data]    |     /root/nltk_data...\n",
            "[nltk_data]    |   Unzipping corpora/nonbreaking_prefixes.zip.\n",
            "[nltk_data]    | Downloading package nps_chat to /root/nltk_data...\n",
            "[nltk_data]    |   Unzipping corpora/nps_chat.zip.\n",
            "[nltk_data]    | Downloading package omw to /root/nltk_data...\n",
            "[nltk_data]    | Downloading package omw-1.4 to /root/nltk_data...\n",
            "[nltk_data]    | Downloading package opinion_lexicon to\n",
            "[nltk_data]    |     /root/nltk_data...\n",
            "[nltk_data]    |   Unzipping corpora/opinion_lexicon.zip.\n",
            "[nltk_data]    | Downloading package panlex_swadesh to\n",
            "[nltk_data]    |     /root/nltk_data...\n",
            "[nltk_data]    | Downloading package paradigms to /root/nltk_data...\n",
            "[nltk_data]    |   Unzipping corpora/paradigms.zip.\n",
            "[nltk_data]    | Downloading package pe08 to /root/nltk_data...\n",
            "[nltk_data]    |   Unzipping corpora/pe08.zip.\n",
            "[nltk_data]    | Downloading package perluniprops to\n",
            "[nltk_data]    |     /root/nltk_data...\n",
            "[nltk_data]    |   Unzipping misc/perluniprops.zip.\n",
            "[nltk_data]    | Downloading package pil to /root/nltk_data...\n",
            "[nltk_data]    |   Unzipping corpora/pil.zip.\n",
            "[nltk_data]    | Downloading package pl196x to /root/nltk_data...\n",
            "[nltk_data]    |   Unzipping corpora/pl196x.zip.\n",
            "[nltk_data]    | Downloading package porter_test to /root/nltk_data...\n",
            "[nltk_data]    |   Unzipping stemmers/porter_test.zip.\n",
            "[nltk_data]    | Downloading package ppattach to /root/nltk_data...\n",
            "[nltk_data]    |   Unzipping corpora/ppattach.zip.\n",
            "[nltk_data]    | Downloading package problem_reports to\n",
            "[nltk_data]    |     /root/nltk_data...\n",
            "[nltk_data]    |   Unzipping corpora/problem_reports.zip.\n",
            "[nltk_data]    | Downloading package product_reviews_1 to\n",
            "[nltk_data]    |     /root/nltk_data...\n",
            "[nltk_data]    |   Unzipping corpora/product_reviews_1.zip.\n",
            "[nltk_data]    | Downloading package product_reviews_2 to\n",
            "[nltk_data]    |     /root/nltk_data...\n",
            "[nltk_data]    |   Unzipping corpora/product_reviews_2.zip.\n",
            "[nltk_data]    | Downloading package propbank to /root/nltk_data...\n",
            "[nltk_data]    | Downloading package pros_cons to /root/nltk_data...\n",
            "[nltk_data]    |   Unzipping corpora/pros_cons.zip.\n",
            "[nltk_data]    | Downloading package ptb to /root/nltk_data...\n",
            "[nltk_data]    |   Unzipping corpora/ptb.zip.\n",
            "[nltk_data]    | Downloading package punkt to /root/nltk_data...\n",
            "[nltk_data]    |   Package punkt is already up-to-date!\n",
            "[nltk_data]    | Downloading package qc to /root/nltk_data...\n",
            "[nltk_data]    |   Unzipping corpora/qc.zip.\n",
            "[nltk_data]    | Downloading package reuters to /root/nltk_data...\n",
            "[nltk_data]    | Downloading package rslp to /root/nltk_data...\n",
            "[nltk_data]    |   Unzipping stemmers/rslp.zip.\n",
            "[nltk_data]    | Downloading package rte to /root/nltk_data...\n",
            "[nltk_data]    |   Unzipping corpora/rte.zip.\n",
            "[nltk_data]    | Downloading package sample_grammars to\n",
            "[nltk_data]    |     /root/nltk_data...\n",
            "[nltk_data]    |   Unzipping grammars/sample_grammars.zip.\n",
            "[nltk_data]    | Downloading package semcor to /root/nltk_data...\n",
            "[nltk_data]    | Downloading package senseval to /root/nltk_data...\n",
            "[nltk_data]    |   Unzipping corpora/senseval.zip.\n",
            "[nltk_data]    | Downloading package sentence_polarity to\n",
            "[nltk_data]    |     /root/nltk_data...\n",
            "[nltk_data]    |   Unzipping corpora/sentence_polarity.zip.\n",
            "[nltk_data]    | Downloading package sentiwordnet to\n",
            "[nltk_data]    |     /root/nltk_data...\n",
            "[nltk_data]    |   Unzipping corpora/sentiwordnet.zip.\n",
            "[nltk_data]    | Downloading package shakespeare to /root/nltk_data...\n",
            "[nltk_data]    |   Unzipping corpora/shakespeare.zip.\n",
            "[nltk_data]    | Downloading package sinica_treebank to\n",
            "[nltk_data]    |     /root/nltk_data...\n",
            "[nltk_data]    |   Unzipping corpora/sinica_treebank.zip.\n",
            "[nltk_data]    | Downloading package smultron to /root/nltk_data...\n",
            "[nltk_data]    |   Unzipping corpora/smultron.zip.\n",
            "[nltk_data]    | Downloading package snowball_data to\n",
            "[nltk_data]    |     /root/nltk_data...\n",
            "[nltk_data]    | Downloading package spanish_grammars to\n",
            "[nltk_data]    |     /root/nltk_data...\n",
            "[nltk_data]    |   Unzipping grammars/spanish_grammars.zip.\n",
            "[nltk_data]    | Downloading package state_union to /root/nltk_data...\n",
            "[nltk_data]    |   Unzipping corpora/state_union.zip.\n",
            "[nltk_data]    | Downloading package stopwords to /root/nltk_data...\n",
            "[nltk_data]    |   Package stopwords is already up-to-date!\n",
            "[nltk_data]    | Downloading package subjectivity to\n",
            "[nltk_data]    |     /root/nltk_data...\n",
            "[nltk_data]    |   Unzipping corpora/subjectivity.zip.\n",
            "[nltk_data]    | Downloading package swadesh to /root/nltk_data...\n",
            "[nltk_data]    |   Unzipping corpora/swadesh.zip.\n",
            "[nltk_data]    | Downloading package switchboard to /root/nltk_data...\n",
            "[nltk_data]    |   Unzipping corpora/switchboard.zip.\n",
            "[nltk_data]    | Downloading package tagsets to /root/nltk_data...\n",
            "[nltk_data]    |   Unzipping help/tagsets.zip.\n",
            "[nltk_data]    | Downloading package timit to /root/nltk_data...\n",
            "[nltk_data]    |   Unzipping corpora/timit.zip.\n",
            "[nltk_data]    | Downloading package toolbox to /root/nltk_data...\n",
            "[nltk_data]    |   Unzipping corpora/toolbox.zip.\n",
            "[nltk_data]    | Downloading package treebank to /root/nltk_data...\n",
            "[nltk_data]    |   Unzipping corpora/treebank.zip.\n",
            "[nltk_data]    | Downloading package twitter_samples to\n",
            "[nltk_data]    |     /root/nltk_data...\n",
            "[nltk_data]    |   Unzipping corpora/twitter_samples.zip.\n",
            "[nltk_data]    | Downloading package udhr to /root/nltk_data...\n",
            "[nltk_data]    |   Unzipping corpora/udhr.zip.\n",
            "[nltk_data]    | Downloading package udhr2 to /root/nltk_data...\n",
            "[nltk_data]    |   Unzipping corpora/udhr2.zip.\n",
            "[nltk_data]    | Downloading package unicode_samples to\n",
            "[nltk_data]    |     /root/nltk_data...\n",
            "[nltk_data]    |   Unzipping corpora/unicode_samples.zip.\n",
            "[nltk_data]    | Downloading package universal_tagset to\n",
            "[nltk_data]    |     /root/nltk_data...\n",
            "[nltk_data]    |   Unzipping taggers/universal_tagset.zip.\n",
            "[nltk_data]    | Downloading package universal_treebanks_v20 to\n",
            "[nltk_data]    |     /root/nltk_data...\n",
            "[nltk_data]    | Downloading package vader_lexicon to\n",
            "[nltk_data]    |     /root/nltk_data...\n",
            "[nltk_data]    | Downloading package verbnet to /root/nltk_data...\n",
            "[nltk_data]    |   Unzipping corpora/verbnet.zip.\n",
            "[nltk_data]    | Downloading package verbnet3 to /root/nltk_data...\n",
            "[nltk_data]    |   Unzipping corpora/verbnet3.zip.\n",
            "[nltk_data]    | Downloading package webtext to /root/nltk_data...\n",
            "[nltk_data]    |   Unzipping corpora/webtext.zip.\n",
            "[nltk_data]    | Downloading package wmt15_eval to /root/nltk_data...\n",
            "[nltk_data]    |   Unzipping models/wmt15_eval.zip.\n",
            "[nltk_data]    | Downloading package word2vec_sample to\n",
            "[nltk_data]    |     /root/nltk_data...\n",
            "[nltk_data]    |   Unzipping models/word2vec_sample.zip.\n",
            "[nltk_data]    | Downloading package wordnet to /root/nltk_data...\n",
            "[nltk_data]    |   Package wordnet is already up-to-date!\n",
            "[nltk_data]    | Downloading package wordnet2021 to /root/nltk_data...\n",
            "[nltk_data]    | Downloading package wordnet2022 to /root/nltk_data...\n",
            "[nltk_data]    |   Unzipping corpora/wordnet2022.zip.\n",
            "[nltk_data]    | Downloading package wordnet31 to /root/nltk_data...\n",
            "[nltk_data]    | Downloading package wordnet_ic to /root/nltk_data...\n",
            "[nltk_data]    |   Unzipping corpora/wordnet_ic.zip.\n",
            "[nltk_data]    | Downloading package words to /root/nltk_data...\n",
            "[nltk_data]    |   Unzipping corpora/words.zip.\n",
            "[nltk_data]    | Downloading package ycoe to /root/nltk_data...\n",
            "[nltk_data]    |   Unzipping corpora/ycoe.zip.\n",
            "[nltk_data]    | \n",
            "[nltk_data]  Done downloading collection all\n"
          ]
        },
        {
          "output_type": "execute_result",
          "data": {
            "text/plain": [
              "True"
            ]
          },
          "metadata": {},
          "execution_count": 6
        }
      ]
    },
    {
      "cell_type": "markdown",
      "source": [
        "2. Normalisation"
      ],
      "metadata": {
        "id": "dzaR8cslPsgU"
      }
    },
    {
      "cell_type": "code",
      "source": [
        "from nltk.corpus import stopwords"
      ],
      "metadata": {
        "id": "h8T6xTbvPABz"
      },
      "execution_count": 7,
      "outputs": []
    },
    {
      "cell_type": "markdown",
      "source": [
        "2.1 Suppression des mots vides"
      ],
      "metadata": {
        "id": "qHdCGpt6P35R"
      }
    },
    {
      "cell_type": "code",
      "source": [
        "# Télécharger les mots vides pour la langue anglaise\n",
        "stop_words = set(stopwords.words('english'))"
      ],
      "metadata": {
        "id": "RPVVjQTwPu4J"
      },
      "execution_count": 8,
      "outputs": []
    },
    {
      "cell_type": "code",
      "source": [
        "# Tokenisation des mots\n",
        "from nltk.tokenize import word_tokenize\n",
        "tokens = word_tokenize(Text)\n",
        "\n",
        "# Suppression des mots vides\n",
        "filtered_tokens = [word for word in tokens if word.casefold() not in stop_words]"
      ],
      "metadata": {
        "id": "LG2GNJjgQdyW"
      },
      "execution_count": 18,
      "outputs": []
    },
    {
      "cell_type": "markdown",
      "source": [
        "Tout d'abord, il télécharge les mots vides pour la langue anglaise en utilisant stopwords.words('english'). Ensuite, il tokenise le texte en mots individuels à l'aide de word_tokenize(). Ensuite, il utilise une boucle pour filtrer les mots vides en vérifiant si chaque mot, converti en minuscules avec casefold(), n'est pas présent dans l'ensemble des mots vides. Les mots restants, c'est-à-dire ceux qui ne sont pas des mots vides, sont stockés dans la liste filtered_tokens."
      ],
      "metadata": {
        "id": "zDE_t4IuQ7Zs"
      }
    },
    {
      "cell_type": "code",
      "source": [
        "Text"
      ],
      "metadata": {
        "colab": {
          "base_uri": "https://localhost:8080/",
          "height": 70
        },
        "id": "AzSnfYrWRLOC",
        "outputId": "bd470030-0966-4b52-898c-7e840d84b049"
      },
      "execution_count": 19,
      "outputs": [
        {
          "output_type": "execute_result",
          "data": {
            "text/plain": [
              "'Data virtualization is a concept and technology that allows organizations to\\naccess and manage data from various sources in a unified and simplified manner,\\nwithout the need to physically move or replicate the data. It provides a layer of\\nabstraction that presents a virtual view of data from different sources, making it appear\\nas if it resides in a single, centralized location.'"
            ],
            "application/vnd.google.colaboratory.intrinsic+json": {
              "type": "string"
            }
          },
          "metadata": {},
          "execution_count": 19
        }
      ]
    },
    {
      "cell_type": "code",
      "source": [
        "# Affichage des mots sans mots vides\n",
        "print(filtered_tokens)"
      ],
      "metadata": {
        "colab": {
          "base_uri": "https://localhost:8080/"
        },
        "id": "LybaIpS1QxWE",
        "outputId": "cc4f4958-394f-44c1-806b-a1c2d9039550"
      },
      "execution_count": 20,
      "outputs": [
        {
          "output_type": "stream",
          "name": "stdout",
          "text": [
            "['Data', 'virtualization', 'concept', 'technology', 'allows', 'organizations', 'access', 'manage', 'data', 'various', 'sources', 'unified', 'simplified', 'manner', ',', 'without', 'need', 'physically', 'move', 'replicate', 'data', '.', 'provides', 'layer', 'abstraction', 'presents', 'virtual', 'view', 'data', 'different', 'sources', ',', 'making', 'appear', 'resides', 'single', ',', 'centralized', 'location', '.']\n"
          ]
        }
      ]
    },
    {
      "cell_type": "code",
      "source": [
        "text = ' '.join(filtered_tokens)"
      ],
      "metadata": {
        "id": "IgIidm4jdvKa"
      },
      "execution_count": 36,
      "outputs": []
    },
    {
      "cell_type": "markdown",
      "source": [
        "2.2 Suppression de la Ponctuation"
      ],
      "metadata": {
        "id": "jLxAL4wRRcbD"
      }
    },
    {
      "cell_type": "code",
      "source": [
        "# Suppression de la ponctuation\n",
        "import string\n",
        "filtered_tokens = [word.translate(str.maketrans(\"\", \"\", string.punctuation)) for word in filtered_tokens ]"
      ],
      "metadata": {
        "id": "fv14IjTERJPg"
      },
      "execution_count": 23,
      "outputs": []
    },
    {
      "cell_type": "markdown",
      "source": [
        " str.maketrans(\"\", \"\", string.punctuation) crée une table de traduction qui indique que tous les signes de ponctuation doivent être supprimés lors de la traduction d'une chaîne de caractères. Cette table de traduction est ensuite utilisée avec la méthode translate() pour supprimer les signes de ponctuation d'une chaîne de caractères donnée."
      ],
      "metadata": {
        "id": "nkBHGLbDXWvv"
      }
    },
    {
      "cell_type": "code",
      "source": [
        "# Affichage des mots sans mots vides et sans ponctuation\n",
        "print(filtered_tokens)"
      ],
      "metadata": {
        "colab": {
          "base_uri": "https://localhost:8080/"
        },
        "id": "KkDlyO_QSRts",
        "outputId": "c8422eaa-14e8-43c3-9925-fe63b0ce9461"
      },
      "execution_count": 24,
      "outputs": [
        {
          "output_type": "stream",
          "name": "stdout",
          "text": [
            "['Data', 'virtualization', 'concept', 'technology', 'allows', 'organizations', 'access', 'manage', 'data', 'various', 'sources', 'unified', 'simplified', 'manner', '', 'without', 'need', 'physically', 'move', 'replicate', 'data', '', 'provides', 'layer', 'abstraction', 'presents', 'virtual', 'view', 'data', 'different', 'sources', '', 'making', 'appear', 'resides', 'single', '', 'centralized', 'location', '']\n"
          ]
        }
      ]
    },
    {
      "cell_type": "markdown",
      "source": [
        "supprimer les chaînes vides de cette liste"
      ],
      "metadata": {
        "id": "a1pTSE9FVuG0"
      }
    },
    {
      "cell_type": "code",
      "source": [
        "filtered_list = [word for word in filtered_tokens if word != '']"
      ],
      "metadata": {
        "id": "JeR-clx7SegY"
      },
      "execution_count": 25,
      "outputs": []
    },
    {
      "cell_type": "code",
      "source": [
        "print(filtered_list )"
      ],
      "metadata": {
        "colab": {
          "base_uri": "https://localhost:8080/"
        },
        "id": "o8op8E2AV4EA",
        "outputId": "96634276-3bc3-4b90-a63f-8daedf0aba92"
      },
      "execution_count": 26,
      "outputs": [
        {
          "output_type": "stream",
          "name": "stdout",
          "text": [
            "['Data', 'virtualization', 'concept', 'technology', 'allows', 'organizations', 'access', 'manage', 'data', 'various', 'sources', 'unified', 'simplified', 'manner', 'without', 'need', 'physically', 'move', 'replicate', 'data', 'provides', 'layer', 'abstraction', 'presents', 'virtual', 'view', 'data', 'different', 'sources', 'making', 'appear', 'resides', 'single', 'centralized', 'location']\n"
          ]
        }
      ]
    },
    {
      "cell_type": "code",
      "source": [
        "text = ' '.join(filtered_list)"
      ],
      "metadata": {
        "id": "skjDdtV7d5H5"
      },
      "execution_count": 37,
      "outputs": []
    },
    {
      "cell_type": "code",
      "source": [
        "text"
      ],
      "metadata": {
        "colab": {
          "base_uri": "https://localhost:8080/",
          "height": 53
        },
        "id": "4FUXDJbed9ic",
        "outputId": "d06a714e-ac03-44da-c537-e65faae2fb95"
      },
      "execution_count": 38,
      "outputs": [
        {
          "output_type": "execute_result",
          "data": {
            "text/plain": [
              "'Data virtualization concept technology allows organizations access manage data various sources unified simplified manner without need physically move replicate data provides layer abstraction presents virtual view data different sources making appear resides single centralized location'"
            ],
            "application/vnd.google.colaboratory.intrinsic+json": {
              "type": "string"
            }
          },
          "metadata": {},
          "execution_count": 38
        }
      ]
    },
    {
      "cell_type": "markdown",
      "source": [],
      "metadata": {
        "id": "neuy2rHKd4lf"
      }
    },
    {
      "cell_type": "markdown",
      "source": [
        "2.3 Transformation en Minuscules"
      ],
      "metadata": {
        "id": "F41ru74AWpQ4"
      }
    },
    {
      "cell_type": "markdown",
      "source": [
        "Cohérence et normalisation  :Par exemple, \"Chat\", \"chat\" et \"CHAT\" seront tous convertis en \"chat\", ce qui facilite la comparaison et la recherche de mots."
      ],
      "metadata": {
        "id": "DDGce44CXngt"
      }
    },
    {
      "cell_type": "code",
      "source": [
        "WORDS= [\"RUNNING\", \"Played\", \"AM\", \"BEAUtiful\", \"Dogs\"]"
      ],
      "metadata": {
        "id": "FAvNuy-XWpzV"
      },
      "execution_count": 27,
      "outputs": []
    },
    {
      "cell_type": "code",
      "source": [
        "words = [word.lower() for word in WORDS]"
      ],
      "metadata": {
        "id": "QfJcjwtUWy5V"
      },
      "execution_count": 28,
      "outputs": []
    },
    {
      "cell_type": "code",
      "source": [
        "print(words)\n"
      ],
      "metadata": {
        "colab": {
          "base_uri": "https://localhost:8080/"
        },
        "id": "IvzUioYrW_EY",
        "outputId": "249d0a0f-de23-4a19-b8a8-9232d1c689c5"
      },
      "execution_count": 29,
      "outputs": [
        {
          "output_type": "stream",
          "name": "stdout",
          "text": [
            "['running', 'played', 'am', 'beautiful', 'dogs']\n"
          ]
        }
      ]
    },
    {
      "cell_type": "markdown",
      "source": [
        "3. Tokenisation"
      ],
      "metadata": {
        "id": "FKyfrzKrXzhw"
      }
    },
    {
      "cell_type": "markdown",
      "source": [
        "La tokenisation est le processus de division d'un texte en unités plus petites appelées \"tokens\". Un token peut être un mot, une phrase ou même un caractère, selon le niveau de granularité souhaité."
      ],
      "metadata": {
        "id": "7brNGQr5X-1u"
      }
    },
    {
      "cell_type": "code",
      "source": [
        "from nltk.tokenize import sent_tokenize, word_tokenize"
      ],
      "metadata": {
        "id": "QjQHA5sIXCmS"
      },
      "execution_count": 30,
      "outputs": []
    },
    {
      "cell_type": "code",
      "source": [
        "# Conversion en minuscules\n",
        "Text = Text.lower()\n",
        "stop_words = set(stopwords.words(\"english\"))\n",
        "punctuation = set(string.punctuation)\n",
        "# Tokenisation des mots\n",
        "tokens = word_tokenize(Text)\n",
        "\n",
        "# Suppression des mots vides et de la ponctuation\n",
        "tokens = [token for token in tokens if token not in stop_words and token not in punctuation]"
      ],
      "metadata": {
        "id": "ak2U5CTKY-qD"
      },
      "execution_count": 33,
      "outputs": []
    },
    {
      "cell_type": "code",
      "source": [
        "print(tokens)\n",
        "\n"
      ],
      "metadata": {
        "colab": {
          "base_uri": "https://localhost:8080/"
        },
        "id": "N412RLqwZsbH",
        "outputId": "82f4daee-d2ea-4333-eaaa-8360ddcbf5d2"
      },
      "execution_count": 35,
      "outputs": [
        {
          "output_type": "stream",
          "name": "stdout",
          "text": [
            "['data', 'virtualization', 'concept', 'technology', 'allows', 'organizations', 'access', 'manage', 'data', 'various', 'sources', 'unified', 'simplified', 'manner', 'without', 'need', 'physically', 'move', 'replicate', 'data', 'provides', 'layer', 'abstraction', 'presents', 'virtual', 'view', 'data', 'different', 'sources', 'making', 'appear', 'resides', 'single', 'centralized', 'location']\n"
          ]
        }
      ]
    },
    {
      "cell_type": "markdown",
      "source": [
        "4. Lemmatisation & Stemming"
      ],
      "metadata": {
        "id": "uztwyfI9eFb9"
      }
    },
    {
      "cell_type": "markdown",
      "source": [
        "4.1 Lemmatisation"
      ],
      "metadata": {
        "id": "banONbz1eIVR"
      }
    },
    {
      "cell_type": "markdown",
      "source": [
        "a lemmatisation vise à ramener les mots à leur forme de base, appelée \"lemme\", qui est linguistiquement correcte et représente le sens fondamental du mot. Par exemple, le lemme du mot \"marches\" est \"marche\" (verbe \"marcher\"), et le lemme du mot \"meilleures\" est \"meilleur\" (adjectif \"bon\")"
      ],
      "metadata": {
        "id": "Vgw2CdIHeVzc"
      }
    },
    {
      "cell_type": "markdown",
      "source": [
        " le stemming est un processus plus simple et plus rapide qui consiste à réduire les mots à leur racine, en supprimant les suffixes et les préfixes. Le stemming se base sur des règles heuristiques et des algorithmes de correspondance de motifs pour effectuer cette réduction. Par exemple, le stemming pourrait réduire les mots \"marches\", \"marchant\" et \"marchait\" à la racine \"march\"."
      ],
      "metadata": {
        "id": "HstAShBUedHN"
      }
    },
    {
      "cell_type": "markdown",
      "source": [
        " La lemmatisation produit généralement des lemmes qui sont des mots réels et linguistiquement corrects, tandis que le stemming peut générer des racines qui ne sont pas nécessairement des mots valides. Par conséquent, la lemmatisation est considérée comme une méthode plus précise pour normaliser les mots, mais elle est également plus complexe et peut nécessiter des ressources linguistiques supplémentaires."
      ],
      "metadata": {
        "id": "gtYLcj9Iekch"
      }
    },
    {
      "cell_type": "code",
      "source": [
        "from nltk.stem import WordNetLemmatizer\n",
        "\n",
        "lemmatizer = WordNetLemmatizer()\n",
        "\n",
        "words_tok = [\"running\", \"played\", \"am\", \"beautiful\", \"dogs\", \"better\"]\n",
        "\n",
        "lemmatized_words = []\n",
        "for word in words_tok:\n",
        "    lemmatized_word = lemmatizer.lemmatize(word)\n",
        "    lemmatized_words.append(lemmatized_word)\n",
        "\n",
        "print(lemmatized_words)"
      ],
      "metadata": {
        "colab": {
          "base_uri": "https://localhost:8080/"
        },
        "id": "1w4MQUkBfR5C",
        "outputId": "6ad3d908-8108-41f0-95d5-b3f66ce6efca"
      },
      "execution_count": 40,
      "outputs": [
        {
          "output_type": "stream",
          "name": "stdout",
          "text": [
            "['running', 'played', 'am', 'beautiful', 'dog', 'better']\n"
          ]
        }
      ]
    },
    {
      "cell_type": "markdown",
      "source": [
        "j'ai utilisé le WordNetLemmatizer sans spécifier la partie du discours (part of speech - POS). Par défaut, sans spécifier la POS, le WordNetLemmatizer considère les mots comme des noms (nouns)."
      ],
      "metadata": {
        "id": "joxn4aNXfd3E"
      }
    },
    {
      "cell_type": "code",
      "source": [
        "from nltk.stem import WordNetLemmatizer\n",
        "from nltk.corpus import wordnet\n",
        "\n",
        "lemmatizer = WordNetLemmatizer()\n",
        "\n",
        "words_tok = [\"running\", \"played\", \"am\", \"beautiful\", \"dogs\", \"better\"]\n",
        "\n",
        "lemmatized_words = []\n",
        "for word in words_tok:\n",
        "    pos = wordnet.VERB if word.endswith(\"ed\") else wordnet.NOUN\n",
        "    lemmatized_word = lemmatizer.lemmatize(word, pos=pos)\n",
        "    lemmatized_words.append(lemmatized_word)\n",
        "\n",
        "print(lemmatized_words)"
      ],
      "metadata": {
        "colab": {
          "base_uri": "https://localhost:8080/"
        },
        "id": "HahwYQ1RZwDX",
        "outputId": "9b1621a2-49c9-4cfa-ec42-24fb6a11a111"
      },
      "execution_count": 39,
      "outputs": [
        {
          "output_type": "stream",
          "name": "stdout",
          "text": [
            "['running', 'play', 'am', 'beautiful', 'dog', 'better']\n"
          ]
        }
      ]
    },
    {
      "cell_type": "markdown",
      "source": [
        "Dans cet exemple, j'ai utilisé une heuristique simple pour déterminer la partie du discours (POS) en se basant sur la terminaison du mot. Les mots se terminant par \"ed\" sont considérés comme des verbes (VERB), tandis que les autres mots sont considérés comme des noms (NOUN)."
      ],
      "metadata": {
        "id": "SI5zgfJ0fJgt"
      }
    },
    {
      "cell_type": "code",
      "source": [
        "from nltk.stem import WordNetLemmatizer\n",
        "from nltk.tokenize import word_tokenize\n",
        "\n",
        "lemmatizer = WordNetLemmatizer()\n",
        "\n",
        "lemmatized_text = []\n",
        "for word in tokens:\n",
        "    lemmatized_word = lemmatizer.lemmatize(word)\n",
        "    lemmatized_text.append(lemmatized_word)\n",
        "\n",
        "lemmatized_text = ' '.join(lemmatized_text)\n",
        "print(lemmatized_text)"
      ],
      "metadata": {
        "colab": {
          "base_uri": "https://localhost:8080/"
        },
        "id": "2SENW7Uae8JC",
        "outputId": "bdc03681-396b-47b3-f489-f7b4ad40b192"
      },
      "execution_count": 43,
      "outputs": [
        {
          "output_type": "stream",
          "name": "stdout",
          "text": [
            "data virtualization concept technology allows organization access manage data various source unified simplified manner without need physically move replicate data provides layer abstraction present virtual view data different source making appear resides single centralized location\n"
          ]
        }
      ]
    },
    {
      "cell_type": "code",
      "source": [
        "from nltk.stem import WordNetLemmatizer\n",
        "from nltk.tokenize import word_tokenize\n",
        "\n",
        "lemmatizer = WordNetLemmatizer()\n",
        "\n",
        "lemmatized_text = []\n",
        "for word in tokens:\n",
        "    pos = wordnet.VERB if word.endswith(\"ed\") else wordnet.NOUN\n",
        "    lemmatized_word = lemmatizer.lemmatize(word, pos=pos)\n",
        "    lemmatized_text.append(lemmatized_word)\n",
        "\n",
        "lemmatized_text = ' '.join(lemmatized_text)\n",
        "print(lemmatized_text)"
      ],
      "metadata": {
        "colab": {
          "base_uri": "https://localhost:8080/"
        },
        "id": "2f2FwM7BfzCs",
        "outputId": "9f855905-42e8-4aa2-8749-7752c08f581f"
      },
      "execution_count": 46,
      "outputs": [
        {
          "output_type": "stream",
          "name": "stdout",
          "text": [
            "data virtualization concept technology allows organization access manage data various source unify simplify manner without need physically move replicate data provides layer abstraction present virtual view data different source making appear resides single centralize location\n"
          ]
        }
      ]
    },
    {
      "cell_type": "code",
      "source": [
        "from nltk.stem import WordNetLemmatizer\n",
        "\n",
        "lemmatizer = WordNetLemmatizer()\n",
        "\n",
        "mots = [\"manges\", \"jouent\", \"suis\", \"suivons\", \"corpora\", \"heureusement\", \"grandes\", \"better\"]\n",
        "\n",
        "lemmatized_words = []\n",
        "for mot in mots:\n",
        "    lemmatized_word = lemmatizer.lemmatize(mot, pos='v')\n",
        "    lemmatized_words.append(lemmatized_word)\n",
        "\n",
        "print(lemmatized_words)"
      ],
      "metadata": {
        "colab": {
          "base_uri": "https://localhost:8080/"
        },
        "id": "I6ob7A6Kixi8",
        "outputId": "730eaa67-d5a8-468e-f7c9-60185a50728e"
      },
      "execution_count": 49,
      "outputs": [
        {
          "output_type": "stream",
          "name": "stdout",
          "text": [
            "['manges', 'jouent', 'suis', 'suivons', 'corpora', 'heureusement', 'grandes', 'better']\n"
          ]
        }
      ]
    },
    {
      "cell_type": "markdown",
      "source": [
        " le WordNetLemmatizer de NLTK est principalement basé sur WordNet, qui est une ressource lexicale disponible en anglais.\n",
        "\n"
      ],
      "metadata": {
        "id": "UOt_VMyDhb2E"
      }
    },
    {
      "cell_type": "code",
      "source": [],
      "metadata": {
        "id": "Jk-XgL_Ki3zc"
      },
      "execution_count": null,
      "outputs": []
    },
    {
      "cell_type": "code",
      "source": [
        "from nltk.stem import SnowballStemmer\n",
        "\n",
        "stemmer = SnowballStemmer(\"french\")\n",
        "\n",
        "mots = [\"manges\", \"jouent\", \"suis\", \"suivons\", \"corpora\", \"heureusement\", \"grandes\", \"better\"]\n",
        "\n",
        "stemmed_words = []\n",
        "for mot in mots:\n",
        "    stemmed_word = stemmer.stem(mot)\n",
        "    stemmed_words.append(stemmed_word)\n",
        "\n",
        "print(stemmed_words)"
      ],
      "metadata": {
        "colab": {
          "base_uri": "https://localhost:8080/"
        },
        "id": "BQBZbjWDhlWo",
        "outputId": "d6a14f08-6bd8-4b4d-9a0e-89df34588c57"
      },
      "execution_count": 48,
      "outputs": [
        {
          "output_type": "stream",
          "name": "stdout",
          "text": [
            "['mang', 'jouent', 'suis', 'suivon', 'corpor', 'heureux', 'grand', 'bet']\n"
          ]
        }
      ]
    },
    {
      "cell_type": "markdown",
      "source": [
        "4.2 Stemming"
      ],
      "metadata": {
        "id": "n-c_ZHhvjfhM"
      }
    },
    {
      "cell_type": "code",
      "source": [
        "from nltk.stem import SnowballStemmer\n",
        "\n",
        "stemmer = SnowballStemmer(\"english\")\n",
        "\n",
        "text = \"'Data virtualization concept technology allows organizations access manage data various sources unified simplified manner without need physically move replicate data provides layer abstraction presents virtual view data different sources making appear resides single centralized locatio'\"\n",
        "\n",
        "words = text.split()\n",
        "\n",
        "stemmed_words = [stemmer.stem(word) for word in words]\n",
        "\n",
        "stemmed_text = ' '.join(stemmed_words)\n",
        "\n",
        "print(stemmed_text)"
      ],
      "metadata": {
        "colab": {
          "base_uri": "https://localhost:8080/"
        },
        "id": "oalyLIFmic2L",
        "outputId": "c7767f2c-614b-4122-d389-ac4de0052d9a"
      },
      "execution_count": 50,
      "outputs": [
        {
          "output_type": "stream",
          "name": "stdout",
          "text": [
            "data virtual concept technolog allow organ access manag data various sourc unifi simplifi manner without need physic move replic data provid layer abstract present virtual view data differ sourc make appear resid singl central locatio\n"
          ]
        }
      ]
    },
    {
      "cell_type": "code",
      "source": [
        "from nltk.stem import SnowballStemmer, PorterStemmer, LancasterStemmer\n",
        "\n",
        "text = \"'Data virtualization concept technology allows organizations access manage data various sources unified simplified manner without need physically move replicate data provides layer abstraction presents virtual view data different sources making appear resides single centralized locatio'\"\n",
        "\n",
        "# Snowball Stemmer\n",
        "snowball_stemmer = SnowballStemmer(\"english\")\n",
        "snowball_stemmed_words = [snowball_stemmer.stem(word) for word in text.split()]\n",
        "snowball_stemmed_text = ' '.join(snowball_stemmed_words)\n",
        "\n",
        "# Porter Stemmer\n",
        "porter_stemmer = PorterStemmer()\n",
        "porter_stemmed_words = [porter_stemmer.stem(word) for word in text.split()]\n",
        "porter_stemmed_text = ' '.join(porter_stemmed_words)\n",
        "\n",
        "# Lancaster Stemmer\n",
        "lancaster_stemmer = LancasterStemmer()\n",
        "lancaster_stemmed_words = [lancaster_stemmer.stem(word) for word in text.split()]\n",
        "lancaster_stemmed_text = ' '.join(lancaster_stemmed_words)\n",
        "\n",
        "print(\"Snowball Stemmer:\", snowball_stemmed_text)\n",
        "print(\"Porter Stemmer:\", porter_stemmed_text)\n",
        "print(\"Lancaster Stemmer:\", lancaster_stemmed_text)"
      ],
      "metadata": {
        "colab": {
          "base_uri": "https://localhost:8080/"
        },
        "id": "UHqj1fi_jbxh",
        "outputId": "d2595ee8-c162-4c39-f882-5dd93c7905b5"
      },
      "execution_count": 51,
      "outputs": [
        {
          "output_type": "stream",
          "name": "stdout",
          "text": [
            "Snowball Stemmer: data virtual concept technolog allow organ access manag data various sourc unifi simplifi manner without need physic move replic data provid layer abstract present virtual view data differ sourc make appear resid singl central locatio\n",
            "Porter Stemmer: 'data virtual concept technolog allow organ access manag data variou sourc unifi simplifi manner without need physic move replic data provid layer abstract present virtual view data differ sourc make appear resid singl central locatio'\n",
            "Lancaster Stemmer: 'data virt conceiv technolog allow org access man dat vary sourc un simpl man without nee phys mov reply dat provid lay abstract pres virt view dat diff sourc mak appear resid singl cent locatio'\n"
          ]
        }
      ]
    },
    {
      "cell_type": "markdown",
      "source": [
        "Le Snowball Stemmer et le Porter Stemmer ont produit des résultats assez similaires, avec quelques variations mineures dans la racinisation des mots.\n",
        "\n",
        "Le Lancaster Stemmer a produit des résultats plus agressifs, avec des racines plus courtes et des modifications plus importantes des mots."
      ],
      "metadata": {
        "id": "16Yljs5zj6GI"
      }
    },
    {
      "cell_type": "markdown",
      "source": [
        "5. Word Embeddings avec Word2Vec"
      ],
      "metadata": {
        "id": "BaK-vzWZj_Em"
      }
    },
    {
      "cell_type": "markdown",
      "source": [
        "Les embeddings de mots (Word Embeddings en anglais) sont une représentation numérique des mots dans le traitement du langage naturel (NLP). Ils sont utilisés pour capturer et représenter les relations sémantiques et syntaxiques entre les mots d'un langage donné."
      ],
      "metadata": {
        "id": "C7Ez-UTTkMj2"
      }
    },
    {
      "cell_type": "markdown",
      "source": [
        "es embeddings de mots sont utilisés dans le NLP pour représenter les mots de manière dense et continue, capturant ainsi les relations sémantiques et syntaxiques entre les mots. Ils sont utilisés pour améliorer les performances des modèles de NLP et faciliter le traitement automatique du langage naturel."
      ],
      "metadata": {
        "id": "oR7mHoPGkW0n"
      }
    },
    {
      "cell_type": "markdown",
      "source": [
        "Les embeddings de mots sont une technique puissante pour représenter les mots en tant que vecteurs denses dans des applications de traitement automatique du langage naturel (TALN) et sont largement utilisés dans de nombreux projets et applications de TALN."
      ],
      "metadata": {
        "id": "I2i9uQGOmMyY"
      }
    },
    {
      "cell_type": "code",
      "source": [
        "from sklearn.feature_extraction.text import TfidfVectorizer, CountVectorizer\n",
        "\n",
        "text = 'data virtual concept technolog allow organ access manag data various sourc unifi simplifi manner without need physic move replic data provid layer abstract present virtual view data differ sourc make appear resid singl central locatio'\n",
        "\n",
        "# TfidfVectorizer\n",
        "tfidf_vectorizer = TfidfVectorizer()\n",
        "tfidf_matrix = tfidf_vectorizer.fit_transform([text])\n",
        "tfidf_features = tfidf_vectorizer.get_feature_names_out()\n",
        "\n",
        "print(\"TfidfVectorizer:\")\n",
        "for i, feature in enumerate(tfidf_features):\n",
        "    print(f\"Feature '{feature}': {tfidf_matrix[0, i]}\")\n",
        "\n",
        "# CountVectorizer\n",
        "count_vectorizer = CountVectorizer()\n",
        "count_matrix = count_vectorizer.fit_transform([text])\n",
        "count_features = count_vectorizer.get_feature_names_out()\n",
        "\n",
        "print(\"\\nCountVectorizer:\")\n",
        "for i, feature in enumerate(count_features):\n",
        "    print(f\"Feature '{feature}': {count_matrix[0, i]}\")"
      ],
      "metadata": {
        "colab": {
          "base_uri": "https://localhost:8080/"
        },
        "id": "cp1H50Cij-o8",
        "outputId": "a1ab1693-fcdc-45ba-beb9-74e5bbab2136"
      },
      "execution_count": 54,
      "outputs": [
        {
          "output_type": "stream",
          "name": "stdout",
          "text": [
            "TfidfVectorizer:\n",
            "Feature 'abstract': 0.14002800840280097\n",
            "Feature 'access': 0.14002800840280097\n",
            "Feature 'allow': 0.14002800840280097\n",
            "Feature 'appear': 0.14002800840280097\n",
            "Feature 'central': 0.14002800840280097\n",
            "Feature 'concept': 0.14002800840280097\n",
            "Feature 'data': 0.5601120336112039\n",
            "Feature 'differ': 0.14002800840280097\n",
            "Feature 'layer': 0.14002800840280097\n",
            "Feature 'locatio': 0.14002800840280097\n",
            "Feature 'make': 0.14002800840280097\n",
            "Feature 'manag': 0.14002800840280097\n",
            "Feature 'manner': 0.14002800840280097\n",
            "Feature 'move': 0.14002800840280097\n",
            "Feature 'need': 0.14002800840280097\n",
            "Feature 'organ': 0.14002800840280097\n",
            "Feature 'physic': 0.14002800840280097\n",
            "Feature 'present': 0.14002800840280097\n",
            "Feature 'provid': 0.14002800840280097\n",
            "Feature 'replic': 0.14002800840280097\n",
            "Feature 'resid': 0.14002800840280097\n",
            "Feature 'simplifi': 0.14002800840280097\n",
            "Feature 'singl': 0.14002800840280097\n",
            "Feature 'sourc': 0.28005601680560194\n",
            "Feature 'technolog': 0.14002800840280097\n",
            "Feature 'unifi': 0.14002800840280097\n",
            "Feature 'various': 0.14002800840280097\n",
            "Feature 'view': 0.14002800840280097\n",
            "Feature 'virtual': 0.28005601680560194\n",
            "Feature 'without': 0.14002800840280097\n",
            "\n",
            "CountVectorizer:\n",
            "Feature 'abstract': 1\n",
            "Feature 'access': 1\n",
            "Feature 'allow': 1\n",
            "Feature 'appear': 1\n",
            "Feature 'central': 1\n",
            "Feature 'concept': 1\n",
            "Feature 'data': 4\n",
            "Feature 'differ': 1\n",
            "Feature 'layer': 1\n",
            "Feature 'locatio': 1\n",
            "Feature 'make': 1\n",
            "Feature 'manag': 1\n",
            "Feature 'manner': 1\n",
            "Feature 'move': 1\n",
            "Feature 'need': 1\n",
            "Feature 'organ': 1\n",
            "Feature 'physic': 1\n",
            "Feature 'present': 1\n",
            "Feature 'provid': 1\n",
            "Feature 'replic': 1\n",
            "Feature 'resid': 1\n",
            "Feature 'simplifi': 1\n",
            "Feature 'singl': 1\n",
            "Feature 'sourc': 2\n",
            "Feature 'technolog': 1\n",
            "Feature 'unifi': 1\n",
            "Feature 'various': 1\n",
            "Feature 'view': 1\n",
            "Feature 'virtual': 2\n",
            "Feature 'without': 1\n"
          ]
        }
      ]
    },
    {
      "cell_type": "markdown",
      "source": [
        " The TF-IDF score represents the importance of a word in the text, considering both its frequency in the text and its rarity in the overall corpus."
      ],
      "metadata": {
        "id": "Wm9P4oKKlUD_"
      }
    },
    {
      "cell_type": "code",
      "source": [
        "from gensim.models import Word2Vec\n",
        "from nltk.tokenize import word_tokenize\n",
        "\n",
        "text = 'data virtual concept technolog allow organ access manag data various sourc unifi simplifi manner without need physic move replic data provid layer abstract present virtual view data differ sourc make appear resid singl central locatio'\n",
        "\n",
        "# Tokenize the text\n",
        "tokens = word_tokenize(text)\n",
        "\n",
        "# Train Word2Vec model\n",
        "model = Word2Vec([tokens], min_count=1)\n",
        "\n",
        "# Get the word embeddings\n",
        "word_embeddings = model.wv\n",
        "\n",
        "# Example usage: finding similar words\n",
        "similar_words = word_embeddings.most_similar('data')\n",
        "\n",
        "print(\"Similar words to 'data':\")\n",
        "for word, similarity in similar_words:\n",
        "    print(f\"{word}: {similarity}\")"
      ],
      "metadata": {
        "colab": {
          "base_uri": "https://localhost:8080/"
        },
        "id": "5TJoKk18jthI",
        "outputId": "9647d54e-5354-4ab8-914e-02390331f66a"
      },
      "execution_count": 56,
      "outputs": [
        {
          "output_type": "stream",
          "name": "stdout",
          "text": [
            "Similar words to 'data':\n",
            "physic: 0.2191307246685028\n",
            "manag: 0.21627198159694672\n",
            "singl: 0.19568192958831787\n",
            "resid: 0.09983161836862564\n",
            "simplifi: 0.09325605630874634\n",
            "organ: 0.0929407924413681\n",
            "layer: 0.08404714614152908\n",
            "unifi: 0.07984879612922668\n",
            "abstract: 0.06462380290031433\n",
            "various: 0.06285078823566437\n"
          ]
        }
      ]
    },
    {
      "cell_type": "code",
      "source": [],
      "metadata": {
        "id": "eBl0wci8lc4R"
      },
      "execution_count": null,
      "outputs": []
    }
  ]
}